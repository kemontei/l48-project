{
  "cells": [
    {
      "cell_type": "markdown",
      "metadata": {
        "id": "47Zd9I2n41ZZ"
      },
      "source": [
        "Perfroming ML methods on GDT_TS prediction"
      ]
    },
    {
      "cell_type": "code",
      "execution_count": 28,
      "metadata": {
        "colab": {
          "base_uri": "https://localhost:8080/"
        },
        "id": "mEk7YtaCtB0I",
        "outputId": "6facc98d-4cba-4c45-f351-3fdf4c0562ac"
      },
      "outputs": [],
      "source": [
        "import pandas as pd\n",
        "import random\n",
        "import numpy as np\n",
        "from xgboost import XGBRegressor\n",
        "from sklearn.metrics import mean_absolute_error\n",
        "import matplotlib.pyplot as plt\n",
        "np.random.seed(42)\n",
        "random.seed(42)"
      ]
    },
    {
      "cell_type": "markdown",
      "metadata": {},
      "source": [
        "# Load Train and Test Dataset"
      ]
    },
    {
      "cell_type": "code",
      "execution_count": 29,
      "metadata": {
        "id": "hHDr7fPL458F"
      },
      "outputs": [],
      "source": [
        "X_train = pd.read_csv('./Datasets/X_train.csv')\n",
        "y_train = pd.read_csv('./Datasets/y_train.csv')\n",
        "X_test = pd.read_csv('./Datasets/X_test.csv')\n",
        "y_test = pd.read_csv('./Datasets/y_test.csv')\n"
      ]
    },
    {
      "cell_type": "markdown",
      "metadata": {},
      "source": [
        "# All 9 Features"
      ]
    },
    {
      "cell_type": "code",
      "execution_count": 30,
      "metadata": {
        "colab": {
          "base_uri": "https://localhost:8080/",
          "height": 423
        },
        "id": "GNHymr9_5F1-",
        "outputId": "a35feefc-1e5e-4114-ba07-49dac35793a3"
      },
      "outputs": [
        {
          "data": {
            "text/plain": [
              "1.241671103573917"
            ]
          },
          "execution_count": 30,
          "metadata": {},
          "output_type": "execute_result"
        }
      ],
      "source": [
        "model = XGBRegressor(\n",
        "    learning_rate=0.1,\n",
        "    n_estimators=100,\n",
        "    max_depth=3,\n",
        "    min_child_weight=1,\n",
        "    subsample=0.8,\n",
        "    colsample_bytree=0.8,\n",
        ")\n",
        "\n",
        "model.fit(X_train, y_train)\n",
        "\n",
        "y_pred = model.predict(X_test)\n",
        "\n",
        "mse = mean_absolute_error(y_test, y_pred)\n",
        "mse"
      ]
    },
    {
      "cell_type": "markdown",
      "metadata": {},
      "source": [
        "# Drop feature "
      ]
    },
    {
      "cell_type": "code",
      "execution_count": 31,
      "metadata": {},
      "outputs": [
        {
          "data": {
            "text/html": [
              "<div>\n",
              "<style scoped>\n",
              "    .dataframe tbody tr th:only-of-type {\n",
              "        vertical-align: middle;\n",
              "    }\n",
              "\n",
              "    .dataframe tbody tr th {\n",
              "        vertical-align: top;\n",
              "    }\n",
              "\n",
              "    .dataframe thead th {\n",
              "        text-align: right;\n",
              "    }\n",
              "</style>\n",
              "<table border=\"1\" class=\"dataframe\">\n",
              "  <thead>\n",
              "    <tr style=\"text-align: right;\">\n",
              "      <th></th>\n",
              "      <th>DFM</th>\n",
              "      <th>AL4_P</th>\n",
              "      <th>TM-score</th>\n",
              "      <th>TM-align</th>\n",
              "      <th>Z-score</th>\n",
              "      <th>AL0_P</th>\n",
              "      <th>QCS</th>\n",
              "      <th>Handed.</th>\n",
              "      <th>SS</th>\n",
              "    </tr>\n",
              "  </thead>\n",
              "  <tbody>\n",
              "    <tr>\n",
              "      <th>0</th>\n",
              "      <td>0.07</td>\n",
              "      <td>81.67</td>\n",
              "      <td>0.579</td>\n",
              "      <td>0.582</td>\n",
              "      <td>4.40</td>\n",
              "      <td>60.00</td>\n",
              "      <td>81.37</td>\n",
              "      <td>0.89</td>\n",
              "      <td>0.380</td>\n",
              "    </tr>\n",
              "    <tr>\n",
              "      <th>1</th>\n",
              "      <td>0.62</td>\n",
              "      <td>31.82</td>\n",
              "      <td>0.312</td>\n",
              "      <td>0.310</td>\n",
              "      <td>0.59</td>\n",
              "      <td>21.82</td>\n",
              "      <td>43.67</td>\n",
              "      <td>0.73</td>\n",
              "      <td>0.332</td>\n",
              "    </tr>\n",
              "    <tr>\n",
              "      <th>2</th>\n",
              "      <td>0.18</td>\n",
              "      <td>91.45</td>\n",
              "      <td>0.816</td>\n",
              "      <td>0.822</td>\n",
              "      <td>8.06</td>\n",
              "      <td>75.21</td>\n",
              "      <td>87.19</td>\n",
              "      <td>0.92</td>\n",
              "      <td>0.529</td>\n",
              "    </tr>\n",
              "    <tr>\n",
              "      <th>3</th>\n",
              "      <td>1.31</td>\n",
              "      <td>30.59</td>\n",
              "      <td>0.300</td>\n",
              "      <td>0.325</td>\n",
              "      <td>1.62</td>\n",
              "      <td>20.00</td>\n",
              "      <td>32.51</td>\n",
              "      <td>0.73</td>\n",
              "      <td>0.420</td>\n",
              "    </tr>\n",
              "    <tr>\n",
              "      <th>4</th>\n",
              "      <td>0.07</td>\n",
              "      <td>78.33</td>\n",
              "      <td>0.559</td>\n",
              "      <td>0.564</td>\n",
              "      <td>3.89</td>\n",
              "      <td>61.67</td>\n",
              "      <td>77.84</td>\n",
              "      <td>0.93</td>\n",
              "      <td>0.479</td>\n",
              "    </tr>\n",
              "    <tr>\n",
              "      <th>...</th>\n",
              "      <td>...</td>\n",
              "      <td>...</td>\n",
              "      <td>...</td>\n",
              "      <td>...</td>\n",
              "      <td>...</td>\n",
              "      <td>...</td>\n",
              "      <td>...</td>\n",
              "      <td>...</td>\n",
              "      <td>...</td>\n",
              "    </tr>\n",
              "    <tr>\n",
              "      <th>3198</th>\n",
              "      <td>0.20</td>\n",
              "      <td>65.45</td>\n",
              "      <td>0.578</td>\n",
              "      <td>0.579</td>\n",
              "      <td>4.18</td>\n",
              "      <td>56.36</td>\n",
              "      <td>71.44</td>\n",
              "      <td>0.91</td>\n",
              "      <td>0.486</td>\n",
              "    </tr>\n",
              "    <tr>\n",
              "      <th>3199</th>\n",
              "      <td>0.08</td>\n",
              "      <td>87.17</td>\n",
              "      <td>0.903</td>\n",
              "      <td>0.911</td>\n",
              "      <td>13.59</td>\n",
              "      <td>74.78</td>\n",
              "      <td>97.63</td>\n",
              "      <td>0.95</td>\n",
              "      <td>0.680</td>\n",
              "    </tr>\n",
              "    <tr>\n",
              "      <th>3200</th>\n",
              "      <td>0.07</td>\n",
              "      <td>87.83</td>\n",
              "      <td>0.905</td>\n",
              "      <td>0.913</td>\n",
              "      <td>13.21</td>\n",
              "      <td>75.65</td>\n",
              "      <td>98.13</td>\n",
              "      <td>0.95</td>\n",
              "      <td>0.690</td>\n",
              "    </tr>\n",
              "    <tr>\n",
              "      <th>3201</th>\n",
              "      <td>0.07</td>\n",
              "      <td>82.39</td>\n",
              "      <td>0.875</td>\n",
              "      <td>0.890</td>\n",
              "      <td>12.22</td>\n",
              "      <td>73.91</td>\n",
              "      <td>98.82</td>\n",
              "      <td>0.94</td>\n",
              "      <td>0.695</td>\n",
              "    </tr>\n",
              "    <tr>\n",
              "      <th>3202</th>\n",
              "      <td>0.07</td>\n",
              "      <td>97.44</td>\n",
              "      <td>0.935</td>\n",
              "      <td>0.935</td>\n",
              "      <td>8.37</td>\n",
              "      <td>96.58</td>\n",
              "      <td>96.83</td>\n",
              "      <td>0.96</td>\n",
              "      <td>0.657</td>\n",
              "    </tr>\n",
              "  </tbody>\n",
              "</table>\n",
              "<p>3203 rows × 9 columns</p>\n",
              "</div>"
            ],
            "text/plain": [
              "       DFM  AL4_P  TM-score  TM-align  Z-score  AL0_P    QCS  Handed.     SS\n",
              "0     0.07  81.67     0.579     0.582     4.40  60.00  81.37     0.89  0.380\n",
              "1     0.62  31.82     0.312     0.310     0.59  21.82  43.67     0.73  0.332\n",
              "2     0.18  91.45     0.816     0.822     8.06  75.21  87.19     0.92  0.529\n",
              "3     1.31  30.59     0.300     0.325     1.62  20.00  32.51     0.73  0.420\n",
              "4     0.07  78.33     0.559     0.564     3.89  61.67  77.84     0.93  0.479\n",
              "...    ...    ...       ...       ...      ...    ...    ...      ...    ...\n",
              "3198  0.20  65.45     0.578     0.579     4.18  56.36  71.44     0.91  0.486\n",
              "3199  0.08  87.17     0.903     0.911    13.59  74.78  97.63     0.95  0.680\n",
              "3200  0.07  87.83     0.905     0.913    13.21  75.65  98.13     0.95  0.690\n",
              "3201  0.07  82.39     0.875     0.890    12.22  73.91  98.82     0.94  0.695\n",
              "3202  0.07  97.44     0.935     0.935     8.37  96.58  96.83     0.96  0.657\n",
              "\n",
              "[3203 rows x 9 columns]"
            ]
          },
          "execution_count": 31,
          "metadata": {},
          "output_type": "execute_result"
        }
      ],
      "source": [
        "X_train"
      ]
    },
    {
      "cell_type": "code",
      "execution_count": 32,
      "metadata": {
        "id": "QeAc4FRX6hfN"
      },
      "outputs": [
        {
          "data": {
            "text/plain": [
              "1.297929704168465"
            ]
          },
          "execution_count": 32,
          "metadata": {},
          "output_type": "execute_result"
        }
      ],
      "source": [
        "X_train = X_train.drop('SS', axis=1)\n",
        "X_test = X_test.drop('SS', axis=1)\n",
        "\n",
        "model = XGBRegressor(\n",
        "    learning_rate=0.1,\n",
        "    n_estimators=100,\n",
        "    max_depth=3,\n",
        "    min_child_weight=1,\n",
        "    subsample=0.8,\n",
        "    colsample_bytree=0.8,\n",
        ")\n",
        "\n",
        "model.fit(X_train, y_train)\n",
        "\n",
        "y_pred = model.predict(X_test)\n",
        "\n",
        "mse = mean_absolute_error(y_test, y_pred)\n",
        "\n",
        "mse\n",
        "\n"
      ]
    },
    {
      "cell_type": "markdown",
      "metadata": {},
      "source": [
        "# Drop feature"
      ]
    },
    {
      "cell_type": "code",
      "execution_count": 33,
      "metadata": {
        "id": "LHasydj25kh6"
      },
      "outputs": [
        {
          "data": {
            "text/plain": [
              "1.2783999259462964"
            ]
          },
          "execution_count": 33,
          "metadata": {},
          "output_type": "execute_result"
        }
      ],
      "source": [
        "X_train = X_train.drop('Handed.', axis=1)\n",
        "X_test = X_test.drop('Handed.', axis=1)\n",
        "\n",
        "model = XGBRegressor(\n",
        "    learning_rate=0.1,\n",
        "    n_estimators=100,\n",
        "    max_depth=3,\n",
        "    min_child_weight=1,\n",
        "    subsample=0.8,\n",
        "    colsample_bytree=0.8,\n",
        ")\n",
        "\n",
        "model.fit(X_train, y_train)\n",
        "\n",
        "y_pred = model.predict(X_test)\n",
        "\n",
        "mse = mean_absolute_error(y_test, y_pred)\n",
        "\n",
        "mse"
      ]
    },
    {
      "cell_type": "markdown",
      "metadata": {},
      "source": [
        "# Drop Feature"
      ]
    },
    {
      "cell_type": "code",
      "execution_count": 34,
      "metadata": {
        "colab": {
          "base_uri": "https://localhost:8080/",
          "height": 423
        },
        "id": "y10HMYHQ6o9E",
        "outputId": "2f084c9e-84de-44da-92d9-492af6362822"
      },
      "outputs": [
        {
          "data": {
            "text/plain": [
              "1.2873074096508241"
            ]
          },
          "execution_count": 34,
          "metadata": {},
          "output_type": "execute_result"
        }
      ],
      "source": [
        "X_train = X_train.drop('QCS', axis=1)\n",
        "X_test = X_test.drop('QCS', axis=1)\n",
        "\n",
        "model = XGBRegressor(\n",
        "    learning_rate=0.1,\n",
        "    n_estimators=100,\n",
        "    max_depth=3,\n",
        "    min_child_weight=1,\n",
        "    subsample=0.8,\n",
        "    colsample_bytree=0.8,\n",
        ")\n",
        "\n",
        "model.fit(X_train, y_train)\n",
        "\n",
        "y_pred = model.predict(X_test)\n",
        "\n",
        "mse = mean_absolute_error(y_test, y_pred)\n",
        "\n",
        "mse\n",
        "\n"
      ]
    },
    {
      "cell_type": "markdown",
      "metadata": {},
      "source": [
        "# Drop Feature"
      ]
    },
    {
      "cell_type": "code",
      "execution_count": 35,
      "metadata": {
        "colab": {
          "base_uri": "https://localhost:8080/"
        },
        "id": "fbyUrQZP6t-X",
        "outputId": "eb772130-f511-4f3f-cfa7-7619dac51f2d"
      },
      "outputs": [
        {
          "data": {
            "text/plain": [
              "1.3671522567215635"
            ]
          },
          "execution_count": 35,
          "metadata": {},
          "output_type": "execute_result"
        }
      ],
      "source": [
        "X_train = X_train.drop('AL0_P', axis=1)\n",
        "X_test = X_test.drop('AL0_P', axis=1)\n",
        "\n",
        "model = XGBRegressor(\n",
        "    learning_rate=0.1,\n",
        "    n_estimators=100,\n",
        "    max_depth=3,\n",
        "    min_child_weight=1,\n",
        "    subsample=0.8,\n",
        "    colsample_bytree=0.8,\n",
        ")\n",
        "\n",
        "model.fit(X_train, y_train)\n",
        "\n",
        "y_pred = model.predict(X_test)\n",
        "\n",
        "mse = mean_absolute_error(y_test, y_pred)\n",
        "\n",
        "mse\n",
        "\n"
      ]
    },
    {
      "cell_type": "markdown",
      "metadata": {},
      "source": [
        "# Drop Feature"
      ]
    },
    {
      "cell_type": "code",
      "execution_count": 36,
      "metadata": {},
      "outputs": [
        {
          "data": {
            "text/plain": [
              "1.554723356916068"
            ]
          },
          "execution_count": 36,
          "metadata": {},
          "output_type": "execute_result"
        }
      ],
      "source": [
        "X_train = X_train.drop('Z-score', axis=1)\n",
        "X_test = X_test.drop('Z-score', axis=1)\n",
        "\n",
        "model = XGBRegressor(\n",
        "    learning_rate=0.1,\n",
        "    n_estimators=100,\n",
        "    max_depth=3,\n",
        "    min_child_weight=1,\n",
        "    subsample=0.8,\n",
        "    colsample_bytree=0.8,\n",
        ")\n",
        "\n",
        "model.fit(X_train, y_train)\n",
        "\n",
        "y_pred = model.predict(X_test)\n",
        "\n",
        "mse = mean_absolute_error(y_test, y_pred)\n",
        "\n",
        "mse\n",
        "\n"
      ]
    },
    {
      "cell_type": "markdown",
      "metadata": {},
      "source": [
        "# Drop Feature"
      ]
    },
    {
      "cell_type": "code",
      "execution_count": 37,
      "metadata": {},
      "outputs": [
        {
          "data": {
            "text/plain": [
              "1.7176319846678316"
            ]
          },
          "execution_count": 37,
          "metadata": {},
          "output_type": "execute_result"
        }
      ],
      "source": [
        "X_train = X_train.drop('TM-align', axis=1)\n",
        "X_test = X_test.drop('TM-align', axis=1)\n",
        "\n",
        "model = XGBRegressor(\n",
        "    learning_rate=0.1,\n",
        "    n_estimators=100,\n",
        "    max_depth=3,\n",
        "    min_child_weight=1,\n",
        "    subsample=0.8,\n",
        "    colsample_bytree=0.8,\n",
        ")\n",
        "\n",
        "model.fit(X_train, y_train)\n",
        "\n",
        "y_pred = model.predict(X_test)\n",
        "\n",
        "mse = mean_absolute_error(y_test, y_pred)\n",
        "\n",
        "mse\n",
        "\n"
      ]
    },
    {
      "cell_type": "markdown",
      "metadata": {},
      "source": [
        "# Drop Feature"
      ]
    },
    {
      "cell_type": "code",
      "execution_count": 38,
      "metadata": {},
      "outputs": [
        {
          "data": {
            "text/plain": [
              "3.080064608208398"
            ]
          },
          "execution_count": 38,
          "metadata": {},
          "output_type": "execute_result"
        }
      ],
      "source": [
        "X_train = X_train.drop('TM-score', axis=1)\n",
        "X_test = X_test.drop('TM-score', axis=1)\n",
        "\n",
        "model = XGBRegressor(\n",
        "    learning_rate=0.1,\n",
        "    n_estimators=100,\n",
        "    max_depth=3,\n",
        "    min_child_weight=1,\n",
        "    subsample=0.8,\n",
        "    colsample_bytree=0.8,\n",
        ")\n",
        "\n",
        "model.fit(X_train, y_train)\n",
        "\n",
        "y_pred = model.predict(X_test)\n",
        "\n",
        "mse = mean_absolute_error(y_test, y_pred)\n",
        "\n",
        "mse\n",
        "\n"
      ]
    },
    {
      "cell_type": "markdown",
      "metadata": {},
      "source": [
        "# Drop feature"
      ]
    },
    {
      "cell_type": "code",
      "execution_count": 39,
      "metadata": {},
      "outputs": [
        {
          "data": {
            "text/plain": [
              "8.215705797193054"
            ]
          },
          "execution_count": 39,
          "metadata": {},
          "output_type": "execute_result"
        }
      ],
      "source": [
        "X_train = X_train.drop('AL4_P', axis=1)\n",
        "X_test = X_test.drop('AL4_P', axis=1)\n",
        "\n",
        "model = XGBRegressor(\n",
        "    learning_rate=0.1,\n",
        "    n_estimators=100,\n",
        "    max_depth=3,\n",
        "    min_child_weight=1,\n",
        "    subsample=0.8,\n",
        "    colsample_bytree=0.8,\n",
        ")\n",
        "\n",
        "model.fit(X_train, y_train)\n",
        "\n",
        "y_pred = model.predict(X_test)\n",
        "\n",
        "mse = mean_absolute_error(y_test, y_pred)\n",
        "\n",
        "mse\n",
        "\n"
      ]
    }
  ],
  "metadata": {
    "colab": {
      "provenance": []
    },
    "kernelspec": {
      "display_name": "Python 3",
      "name": "python3"
    },
    "language_info": {
      "codemirror_mode": {
        "name": "ipython",
        "version": 3
      },
      "file_extension": ".py",
      "mimetype": "text/x-python",
      "name": "python",
      "nbconvert_exporter": "python",
      "pygments_lexer": "ipython3",
      "version": "3.8.2"
    }
  },
  "nbformat": 4,
  "nbformat_minor": 0
}
