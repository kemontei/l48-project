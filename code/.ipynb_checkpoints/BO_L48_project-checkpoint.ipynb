{
 "cells": [
  {
   "cell_type": "code",
   "execution_count": 1,
   "id": "8b1a7446-236a-4a67-b3cd-38381375b784",
   "metadata": {},
   "outputs": [],
   "source": [
    "import numpy as np\n",
    "import pandas as pd\n",
    "import matplotlib.pyplot as plt\n",
    "from gpytorch.priors import GammaPrior\n",
    "from edbo.bro import BO\n",
    "\n",
    "%matplotlib inline"
   ]
  },
  {
   "cell_type": "code",
   "execution_count": 30,
   "id": "f8bf98cf-4449-4174-982a-26bcff2809cb",
   "metadata": {},
   "outputs": [
    {
     "name": "stderr",
     "output_type": "stream",
     "text": [
      "C:\\Users\\lucap\\Desktop\\Uni\\Postgrad\\1st Term (Michaelmas)\\L48 Machine Learning and The Physical World\\Project\\l48-project\\code\\data_loader.py:190: PerformanceWarning: DataFrame is highly fragmented.  This is usually the result of calling `frame.insert` many times, which has poor performance.  Consider joining all columns at once using pd.concat(axis=1) instead.  To get a de-fragmented frame, use `newframe = frame.copy()`\n",
      "  experiment_index['yield'] = index['yield']\n"
     ]
    }
   ],
   "source": [
    "from data_loader import suzuki, casp\n",
    "\n",
    "test_casp = casp()\n",
    "\n",
    "test_suzuki = suzuki(electrophile='dft',                 # dft, mordred, or ohe\n",
    "                     nucleophile='dft',                  # dft, mordred, or ohe\n",
    "                     base='dft',                         # dft, mordred, or ohe\n",
    "                     ligand='boltzmann-dft',             # random-dft, boltzmann-dft, mordred, or ohe\n",
    "                     solvent='dft')                      # dft, mordred, or ohe\n",
    "\n",
    "#print(\"Suzuki Returns: \")\n",
    "#print(test_suzuki)\n",
    "\n",
    "#print(\"Casp Returns: \")\n",
    "#print(test_casp)\n"
   ]
  },
  {
   "cell_type": "markdown",
   "id": "f4fdac16-9f2e-46b0-a237-f0e9abb279bd",
   "metadata": {},
   "source": [
    "### Data Preprocessing"
   ]
  },
  {
   "cell_type": "code",
   "execution_count": 29,
   "id": "56399442-3b48-4583-8310-f9aeb3792544",
   "metadata": {},
   "outputs": [
    {
     "name": "stdout",
     "output_type": "stream",
     "text": [
      "         RMSD        F1       F2       F3        F4            F5        F6  \\\n",
      "0      17.284  13558.30  4305.35  0.31754  162.1730  1.872791e+06  215.3590   \n",
      "1       6.021   6191.96  1623.16  0.26213   53.3894  8.034467e+05   87.2024   \n",
      "2       9.275   7725.98  1726.28  0.22343   67.2887  1.075648e+06   81.7913   \n",
      "3      15.851   8424.58  2368.25  0.28111   67.8325  1.210472e+06  109.4390   \n",
      "4       7.962   7460.84  1736.94  0.23280   52.4123  1.021020e+06   94.5234   \n",
      "...       ...       ...      ...      ...       ...           ...       ...   \n",
      "45725   3.762   8037.12  2777.68  0.34560   64.3390  1.105797e+06  112.7460   \n",
      "45726   6.521   7978.76  2508.57  0.31440   75.8654  1.116725e+06  102.2770   \n",
      "45727  10.356   7726.65  2489.58  0.32220   70.9903  1.076560e+06  103.6780   \n",
      "45728   9.791   8878.93  3055.78  0.34416   94.0314  1.242266e+06  115.1950   \n",
      "45729  18.827  12732.40  4444.36  0.34905  157.6300  1.788897e+06  229.4590   \n",
      "\n",
      "            F7   F8       F9  \n",
      "0      4287.87  102  27.0302  \n",
      "1      3328.91   39  38.5468  \n",
      "2      2981.04   29  38.8119  \n",
      "3      3248.22   70  39.0651  \n",
      "4      2814.42   41  39.9147  \n",
      "...        ...  ...      ...  \n",
      "45725  3384.21   84  36.8036  \n",
      "45726  3974.52   54  36.0470  \n",
      "45727  3290.46   46  37.4718  \n",
      "45728  3421.79   41  35.6045  \n",
      "45729  4626.85  141  29.8118  \n",
      "\n",
      "[45730 rows x 10 columns]\n",
      "             F1        F2        F3        F4        F5        F6        F7  \\\n",
      "0      0.296637  0.261720  0.463818  0.423008  0.301464  0.323758  0.040471   \n",
      "1      0.100946  0.081810  0.349616  0.119996  0.093926  0.097508  0.031420   \n",
      "2      0.141698  0.088727  0.269853  0.158712  0.146755  0.087955  0.028137   \n",
      "3      0.160257  0.131787  0.388734  0.160226  0.172921  0.136765  0.030659   \n",
      "4      0.134655  0.089442  0.289165  0.117274  0.136153  0.110432  0.026564   \n",
      "...         ...       ...       ...       ...       ...       ...       ...   \n",
      "45725  0.149964  0.159250  0.521651  0.150495  0.152606  0.142603  0.031942   \n",
      "45726  0.148414  0.141199  0.457347  0.182602  0.154727  0.124121  0.037514   \n",
      "45727  0.141716  0.139926  0.473423  0.169022  0.146932  0.126594  0.031057   \n",
      "45728  0.172327  0.177904  0.518683  0.233202  0.179092  0.146926  0.032297   \n",
      "45729  0.274696  0.271044  0.528762  0.410354  0.285182  0.348650  0.043671   \n",
      "\n",
      "             F8        F9    RMSD  \n",
      "0      0.291429  0.294518  17.284  \n",
      "1      0.111429  0.581909   6.021  \n",
      "2      0.082857  0.588525   9.275  \n",
      "3      0.200000  0.594843  15.851  \n",
      "4      0.117143  0.616045   7.962  \n",
      "...         ...       ...     ...  \n",
      "45725  0.240000  0.538409   3.762  \n",
      "45726  0.154286  0.519528   6.521  \n",
      "45727  0.131429  0.555083  10.356  \n",
      "45728  0.117143  0.508486   9.791  \n",
      "45729  0.402857  0.363932  18.827  \n",
      "\n",
      "[45730 rows x 10 columns]\n",
      "             F1        F2        F3        F4        F7        F8        F9  \\\n",
      "0      0.296637  0.261720  0.463818  0.423008  0.040471  0.291429  0.294518   \n",
      "1      0.100946  0.081810  0.349616  0.119996  0.031420  0.111429  0.581909   \n",
      "2      0.141698  0.088727  0.269853  0.158712  0.028137  0.082857  0.588525   \n",
      "3      0.160257  0.131787  0.388734  0.160226  0.030659  0.200000  0.594843   \n",
      "4      0.134655  0.089442  0.289165  0.117274  0.026564  0.117143  0.616045   \n",
      "...         ...       ...       ...       ...       ...       ...       ...   \n",
      "45725  0.149964  0.159250  0.521651  0.150495  0.031942  0.240000  0.538409   \n",
      "45726  0.148414  0.141199  0.457347  0.182602  0.037514  0.154286  0.519528   \n",
      "45727  0.141716  0.139926  0.473423  0.169022  0.031057  0.131429  0.555083   \n",
      "45728  0.172327  0.177904  0.518683  0.233202  0.032297  0.117143  0.508486   \n",
      "45729  0.274696  0.271044  0.528762  0.410354  0.043671  0.402857  0.363932   \n",
      "\n",
      "         RMSD  \n",
      "0      17.284  \n",
      "1       6.021  \n",
      "2       9.275  \n",
      "3      15.851  \n",
      "4       7.962  \n",
      "...       ...  \n",
      "45725   3.762  \n",
      "45726   6.521  \n",
      "45727  10.356  \n",
      "45728   9.791  \n",
      "45729  18.827  \n",
      "\n",
      "[45730 rows x 8 columns]\n"
     ]
    }
   ],
   "source": [
    "from edbo.utils import Data\n",
    "from data_loader import suzuki, casp\n",
    "\n",
    "casp = Data(casp()) # load casp data\n",
    "\n",
    "# casp.drop(['F1', 'F2']) # drop unwanted columns (do after sensitivity analysis)\n",
    "\n",
    "print(casp.data)\n",
    "\n",
    "# Standardize (normalize, etc)\n",
    "casp.standardize(target='RMSD', scaler='minmax')\n",
    "\n",
    "# Drop highly correlated features\n",
    "casp.uncorrelated(target='RMSD', threshold=0.95)\n",
    "\n",
    "print(casp.data)"
   ]
  },
  {
   "cell_type": "code",
   "execution_count": null,
   "id": "2a6bb0af-8593-4200-8096-fac19920d46c",
   "metadata": {},
   "outputs": [],
   "source": []
  },
  {
   "cell_type": "code",
   "execution_count": null,
   "id": "9ea98ef3-90b1-4a6b-a386-7a95d9298a5f",
   "metadata": {},
   "outputs": [],
   "source": []
  }
 ],
 "metadata": {
  "kernelspec": {
   "display_name": "Python 3 (ipykernel)",
   "language": "python",
   "name": "python3"
  },
  "language_info": {
   "codemirror_mode": {
    "name": "ipython",
    "version": 3
   },
   "file_extension": ".py",
   "mimetype": "text/x-python",
   "name": "python",
   "nbconvert_exporter": "python",
   "pygments_lexer": "ipython3",
   "version": "3.7.5"
  }
 },
 "nbformat": 4,
 "nbformat_minor": 5
}
